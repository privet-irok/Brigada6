{
  "nbformat": 4,
  "nbformat_minor": 0,
  "metadata": {
    "colab": {
      "provenance": [],
      "authorship_tag": "ABX9TyPd5M1DADZDuMZQLAPBEEe2",
      "include_colab_link": true
    },
    "kernelspec": {
      "name": "python3",
      "display_name": "Python 3"
    },
    "language_info": {
      "name": "python"
    }
  },
  "cells": [
    {
      "cell_type": "markdown",
      "metadata": {
        "id": "view-in-github",
        "colab_type": "text"
      },
      "source": [
        "<a href=\"https://colab.research.google.com/github/privet-irok/My_First_Test_Repo/blob/master/%D0%BB%D0%B0%D0%B1%D0%B0_%D0%B4%D0%BE%D0%BF_%D0%B8%D0%BA%D1%82.ipynb\" target=\"_parent\"><img src=\"https://colab.research.google.com/assets/colab-badge.svg\" alt=\"Open In Colab\"/></a>"
      ]
    },
    {
      "cell_type": "markdown",
      "source": [
        "#Пример использования **MarkDown**\n",
        "\n",
        "\n",
        "\n",
        "\n",
        "Необходимо выполнить:\n",
        "\n",
        "\n",
        "\n",
        "1.   Список\n",
        "2.   Рисунок\n",
        "3.   Таблица\n",
        "4.   Ссылка\n",
        "\n",
        "\n",
        "\n",
        "![мемчик с котом](https://sun9-4.userapi.com/impg/bM62nkmAgLPjlvXDRlLntmbOPP59TKmWW3ONyw/UTNnlPq6AtI.jpg?size=1070x1030&quality=95&sign=acd24a177b65f61c045aafc25c96efae&type=album)\n",
        "\n",
        "\n",
        "| Имя           | Фамилия       | Группа  |\n",
        "| ------------- |:-------------:| -------:|\n",
        "| Ирина         | Сидорина      | ЭН1-25  |\n",
        "| Дарья         | Бурибо        | ЭН1-25  |\n",
        "| Татьяна       | Сульженко     | ЭН1-25  |\n",
        "\n",
        "\n",
        "\n",
        "[смешная картинка](https://sun9-47.userapi.com/impg/bjLm5PYVKED2JM7AvfQrN0X4YK0ZWc8aR3WF6A/-HftSexWBcA.jpg?size=1016x944&quality=95&sign=e786e8191ba284fc08bbd249641fe707&type=album)\n"
      ],
      "metadata": {
        "id": "yLwmEQxzOLd3"
      }
    }
  ]
}